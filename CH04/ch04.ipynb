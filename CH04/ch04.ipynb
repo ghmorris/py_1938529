{
 "cells": [
  {
   "cell_type": "code",
   "execution_count": 1,
   "metadata": {},
   "outputs": [
    {
     "name": "stdout",
     "output_type": "stream",
     "text": [
      "invalid input\n",
      "invalid input\n"
     ]
    }
   ],
   "source": [
    "valid = False \n",
    "\n",
    "while not valid: \n",
    "    value = int(input('Enter a +ve number <100: '))\n",
    "\n",
    "    if 0 < value < 100: \n",
    "        valid = True \n",
    "    else: \n",
    "        print('invalid input')"
   ]
  },
  {
   "cell_type": "code",
   "execution_count": null,
   "metadata": {},
   "outputs": [],
   "source": [
    "stringVal = 'Maryland'\n",
    "count = 0 \n",
    "\n",
    "for c in stringVal: \n",
    "    if c.isupper():\n",
    "        count += 1 \n",
    "print(count)"
   ]
  }
 ],
 "metadata": {
  "kernelspec": {
   "display_name": "Python 3",
   "language": "python",
   "name": "python3"
  },
  "language_info": {
   "codemirror_mode": {
    "name": "ipython",
    "version": 3
   },
   "file_extension": ".py",
   "mimetype": "text/x-python",
   "name": "python",
   "nbconvert_exporter": "python",
   "pygments_lexer": "ipython3",
   "version": "3.12.4"
  }
 },
 "nbformat": 4,
 "nbformat_minor": 2
}
