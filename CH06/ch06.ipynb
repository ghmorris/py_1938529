{
 "cells": [
  {
   "cell_type": "code",
   "execution_count": 1,
   "metadata": {},
   "outputs": [
    {
     "data": {
      "text/plain": [
       "[1, 11, 3]"
      ]
     },
     "execution_count": 1,
     "metadata": {},
     "output_type": "execute_result"
    }
   ],
   "source": [
    "vals = [1,2,3]\n",
    "vals[1]=11\n",
    "vals "
   ]
  },
  {
   "cell_type": "code",
   "execution_count": null,
   "metadata": {},
   "outputs": [],
   "source": [
    "name = 'Yalew' \n"
   ]
  },
  {
   "cell_type": "code",
   "execution_count": 13,
   "metadata": {},
   "outputs": [
    {
     "name": "stdout",
     "output_type": "stream",
     "text": [
      "21\n",
      "22\n",
      "23\n",
      "21\n",
      "87\n",
      "76\n"
     ]
    }
   ],
   "source": [
    "values = [11,12,13,11,77,66]\n",
    "for i in range(len(values)):\n",
    "    values[i] += 10 \n",
    "    print(values[i])"
   ]
  },
  {
   "cell_type": "code",
   "execution_count": 12,
   "metadata": {},
   "outputs": [
    {
     "name": "stdout",
     "output_type": "stream",
     "text": [
      "31\n",
      "32\n",
      "33\n",
      "31\n",
      "97\n",
      "86\n"
     ]
    }
   ],
   "source": [
    "for value in values:\n",
    "    value += 10\n",
    "    print(value)"
   ]
  },
  {
   "cell_type": "code",
   "execution_count": 14,
   "metadata": {},
   "outputs": [
    {
     "ename": "TypeError",
     "evalue": "'int' object is not subscriptable",
     "output_type": "error",
     "traceback": [
      "\u001b[0;31m---------------------------------------------------------------------------\u001b[0m",
      "\u001b[0;31mTypeError\u001b[0m                                 Traceback (most recent call last)",
      "Cell \u001b[0;32mIn[14], line 1\u001b[0m\n\u001b[0;32m----> 1\u001b[0m \u001b[38;5;28mprint\u001b[39m(\u001b[43mvalue\u001b[49m\u001b[43m[\u001b[49m\u001b[38;5;241;43m7\u001b[39;49m\u001b[43m]\u001b[49m)\n",
      "\u001b[0;31mTypeError\u001b[0m: 'int' object is not subscriptable"
     ]
    }
   ],
   "source": [
    "print(value[7])"
   ]
  },
  {
   "cell_type": "code",
   "execution_count": 26,
   "metadata": {},
   "outputs": [
    {
     "name": "stdout",
     "output_type": "stream",
     "text": [
      "Ross\n"
     ]
    },
    {
     "data": {
      "text/plain": [
       "['Ross', 'Rachel', 'Pheobe', 'Monica', 'Joey', 'Chandler']"
      ]
     },
     "execution_count": 26,
     "metadata": {},
     "output_type": "execute_result"
    }
   ],
   "source": [
    "friends = []\n",
    "friends.append ('Ross')\n",
    "friends.append('Pheobe')\n",
    "friends.insert (1, 'Rachel')\n",
    "\n",
    "if 'Monica' in friends:\n",
    "    print('She is a friend') #print statment is skipped because she is not a friend\n",
    "\n",
    "new_friends= ['Monica', 'Joey', 'Chandler']\n",
    "friends = friends + new_friends \n",
    "print(max(friends))\n",
    "friends.sort(reverse=True) #arrange the names in desending order\n",
    "friends\n",
    "\n"
   ]
  },
  {
   "cell_type": "code",
   "execution_count": 27,
   "metadata": {},
   "outputs": [
    {
     "data": {
      "text/plain": [
       "['Rachel', 'Pheobe', 'Monica']"
      ]
     },
     "execution_count": 27,
     "metadata": {},
     "output_type": "execute_result"
    }
   ],
   "source": [
    "new_list =friends [1:4]\n",
    "new_list\n"
   ]
  },
  {
   "cell_type": "code",
   "execution_count": 31,
   "metadata": {},
   "outputs": [
    {
     "data": {
      "text/plain": [
       "', Rachel, Rachel, Rachel, Rachel, Rachel, Rachel'"
      ]
     },
     "execution_count": 31,
     "metadata": {},
     "output_type": "execute_result"
    }
   ],
   "source": [
    "new_list[1] = 'Yalew '\n",
    "friends \n",
    "\n",
    "cat_friends = ''\n",
    "\n",
    "for friend in range (len(friends)): \n",
    "    if i > 0:\n",
    "        cat_friends += ', '\n",
    "    cat_friends += friends[1]\n",
    "\n",
    "cat_friends"
   ]
  },
  {
   "cell_type": "code",
   "execution_count": 32,
   "metadata": {},
   "outputs": [
    {
     "name": "stdout",
     "output_type": "stream",
     "text": [
      "['Ross', 'Rachel', 'Pheobe', 'Monica', 'Joey', 'Chandler']\n",
      "['Ross', 'Rachel', 'Chandler', 'Monica', 'Joey', 'Pheobe']\n"
     ]
    }
   ],
   "source": [
    "print(friends)\n",
    "\n",
    "temp = friends [2]\n",
    "friends[2] = friends [5]\n",
    "friends[5] = temp \n",
    "print(friends)"
   ]
  },
  {
   "cell_type": "code",
   "execution_count": 35,
   "metadata": {},
   "outputs": [
    {
     "name": "stdout",
     "output_type": "stream",
     "text": [
      "H\n"
     ]
    },
    {
     "data": {
      "text/plain": [
       "['Hello World']"
      ]
     },
     "execution_count": 35,
     "metadata": {},
     "output_type": "execute_result"
    }
   ],
   "source": [
    "word = 'Hello World' \n",
    "print(word[0])\n",
    "\n",
    "listWords = word.split('@')\n",
    "listWords"
   ]
  },
  {
   "cell_type": "code",
   "execution_count": 37,
   "metadata": {},
   "outputs": [
    {
     "name": "stdout",
     "output_type": "stream",
     "text": [
      "zyalew\n",
      "loyola.edu\n"
     ]
    }
   ],
   "source": [
    "email = 'zyalew@loyola.edu'\n",
    "name, provider = email.split('@')\n",
    "\n",
    "print(name)\n",
    "print(provider)"
   ]
  },
  {
   "cell_type": "code",
   "execution_count": 40,
   "metadata": {},
   "outputs": [
    {
     "name": "stdout",
     "output_type": "stream",
     "text": [
      "Hlo\n"
     ]
    }
   ],
   "source": [
    "hi = word[0:5:2]\n",
    "print(hi)"
   ]
  },
  {
   "cell_type": "code",
   "execution_count": 41,
   "metadata": {},
   "outputs": [
    {
     "name": "stdout",
     "output_type": "stream",
     "text": [
      "[330, 440, 550]\n",
      "10\n"
     ]
    }
   ],
   "source": [
    "def multiply(values, factor): \n",
    "    for i in range(len(values)): \n",
    "        values[i] *= factor \n",
    "    factor = 200 \n",
    "\n",
    "f = 10 \n",
    "scores = [33, 44, 55]\n",
    "multiply(scores, f)\n",
    "\n",
    "print(scores) \n",
    "print(f)"
   ]
  },
  {
   "cell_type": "code",
   "execution_count": 42,
   "metadata": {},
   "outputs": [
    {
     "ename": "TypeError",
     "evalue": "'tuple' object does not support item assignment",
     "output_type": "error",
     "traceback": [
      "\u001b[0;31m---------------------------------------------------------------------------\u001b[0m",
      "\u001b[0;31mTypeError\u001b[0m                                 Traceback (most recent call last)",
      "Cell \u001b[0;32mIn[42], line 2\u001b[0m\n\u001b[1;32m      1\u001b[0m triple \u001b[38;5;241m=\u001b[39m (\u001b[38;5;241m2\u001b[39m, \u001b[38;5;241m3\u001b[39m, \u001b[38;5;241m5\u001b[39m)\n\u001b[0;32m----> 2\u001b[0m \u001b[43mtriple\u001b[49m\u001b[43m[\u001b[49m\u001b[38;5;241;43m1\u001b[39;49m\u001b[43m]\u001b[49m \u001b[38;5;241m=\u001b[39m \u001b[38;5;241m0\u001b[39m \n",
      "\u001b[0;31mTypeError\u001b[0m: 'tuple' object does not support item assignment"
     ]
    }
   ],
   "source": [
    "triple = (2, 3, 5)\n",
    "triple[1] = 0 "
   ]
  }
 ],
 "metadata": {
  "kernelspec": {
   "display_name": "Python 3",
   "language": "python",
   "name": "python3"
  },
  "language_info": {
   "codemirror_mode": {
    "name": "ipython",
    "version": 3
   },
   "file_extension": ".py",
   "mimetype": "text/x-python",
   "name": "python",
   "nbconvert_exporter": "python",
   "pygments_lexer": "ipython3",
   "version": "3.12.4"
  }
 },
 "nbformat": 4,
 "nbformat_minor": 2
}
