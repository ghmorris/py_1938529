{
 "cells": [
  {
   "cell_type": "markdown",
   "metadata": {},
   "source": [
    "### 51843\n",
    "\n",
    "Given four int variables that have been given values, `octet1`, `octet2`, `octet3`, and `octet4`, write a string expression whose value is the string equivalent of each these variables joined by a single period (.)."
   ]
  },
  {
   "cell_type": "code",
   "execution_count": null,
   "id": "aacc6b66",
   "metadata": {},
   "outputs": [],
   "source": [
    "#str = str(octet1) + \".\" + str(octet2) + \".\" + str(octet3) + \".\" + str(octet4)"
   ]
  },
  {
   "cell_type": "markdown",
   "metadata": {},
   "source": [
    "### 51764\n",
    "\n",
    "Write an expression whose value is the str that consists of the first four characters of the str associated with `s`."
   ]
  },
  {
   "cell_type": "code",
   "execution_count": null,
   "id": "0f2f28e0",
   "metadata": {},
   "outputs": [],
   "source": [
    "#str = s[:4]"
   ]
  },
  {
   "cell_type": "markdown",
   "metadata": {},
   "source": [
    "### 51836\n",
    "\n",
    "Given the String variable `name`, write an expression that evaluates to the third character of `name`."
   ]
  },
  {
   "cell_type": "code",
   "execution_count": null,
   "id": "475aa8cb",
   "metadata": {},
   "outputs": [],
   "source": [
    "#name[2]"
   ]
  },
  {
   "cell_type": "markdown",
   "metadata": {},
   "source": [
    "### 51761\n",
    "\n",
    "Write an expression whose value is the last character in the str associated with `s`."
   ]
  },
  {
   "cell_type": "code",
   "execution_count": null,
   "id": "9435a6f6",
   "metadata": {},
   "outputs": [],
   "source": [
    "#s[-1]"
   ]
  },
  {
   "cell_type": "markdown",
   "metadata": {},
   "source": [
    "### 51884\n",
    "\n",
    "Assume that `c` is a variable has been assigned a string value. Write an expression whose value is true if and only if `c` is a tab character."
   ]
  },
  {
   "cell_type": "code",
   "execution_count": null,
   "id": "5b5918ed",
   "metadata": {},
   "outputs": [],
   "source": [
    "#c == \"\\t\""
   ]
  },
  {
   "cell_type": "markdown",
   "metadata": {},
   "source": [
    "### 51279\n",
    "\n",
    "Assign `True` to the variable `has_dups` if the string `s1` has any duplicate character (that is if any character appears more than once) and `False` otherwise."
   ]
  },
  {
   "cell_type": "code",
   "execution_count": null,
   "id": "37afc4d1",
   "metadata": {},
   "outputs": [],
   "source": [
    "#has_dups = False \n",
    "#for i in range(len(s1)):\n",
    "      #if s1.count(s1[i])> 1: \n",
    "        #has_dups = True "
   ]
  },
  {
   "cell_type": "markdown",
   "metadata": {},
   "source": [
    "### 51002\n",
    "\n",
    "Given a variable `s` that is associated with the empty string, write some statements that use a while loop to associate `s` with a string consisting of exactly 777 asterisks (`*`)."
   ]
  },
  {
   "cell_type": "code",
   "execution_count": null,
   "id": "8ae71160",
   "metadata": {},
   "outputs": [],
   "source": [
    "#s = \"\"\n",
    "#x = \"*\"\n",
    "#while len(s) < 777:\n",
    "    #s += x \n"
   ]
  },
  {
   "cell_type": "markdown",
   "metadata": {},
   "source": [
    "### 51600\n",
    "\n",
    "Write a statement that defines `plist` to be the empty list."
   ]
  },
  {
   "cell_type": "code",
   "execution_count": null,
   "id": "0628ba72",
   "metadata": {},
   "outputs": [],
   "source": [
    "#plist = []"
   ]
  },
  {
   "cell_type": "markdown",
   "metadata": {},
   "source": [
    "### 51601\n",
    "\n",
    "Write a statement that defines `plist` as the list containing exactly these elements (in order): 'spam', 'eggs', 'vikings'."
   ]
  },
  {
   "cell_type": "code",
   "execution_count": null,
   "id": "92ff6a6d",
   "metadata": {},
   "outputs": [],
   "source": [
    "#plist = ['spam','eggs','vikings']"
   ]
  },
  {
   "cell_type": "markdown",
   "metadata": {},
   "source": [
    "### 51193\n",
    "\n",
    "Create a list named `tax_rates`, consisting of the following five elements: 0.10, 0.15, 0.21, 0.28, 0.31, in that order."
   ]
  },
  {
   "cell_type": "code",
   "execution_count": null,
   "id": "bb4d53cd",
   "metadata": {},
   "outputs": [],
   "source": [
    "#tax_rates = ['0.10', '0.15', '0.21', '0.28', '0.31']"
   ]
  },
  {
   "cell_type": "markdown",
   "metadata": {},
   "source": [
    "### 51203\n",
    "\n",
    "Given that `plist` has been defined to be a list of 30 elements, add 5 to its last element."
   ]
  },
  {
   "cell_type": "code",
   "execution_count": null,
   "id": "ab7d07f7",
   "metadata": {},
   "outputs": [],
   "source": [
    "#plist[-1] += 5"
   ]
  },
  {
   "cell_type": "markdown",
   "metadata": {},
   "source": [
    "### 51613\n",
    "\n",
    "Given that `play_list` has been defined to be a list, write an expression that evaluates to a new list containing the elements at index 0 through index 4 of `play_list`. Do not modify `play_list`."
   ]
  },
  {
   "cell_type": "code",
   "execution_count": null,
   "id": "3ba9111c",
   "metadata": {},
   "outputs": [],
   "source": [
    "#new_list = play_list[0:5]"
   ]
  },
  {
   "cell_type": "markdown",
   "metadata": {},
   "source": [
    "### 51615\n",
    "\n",
    "Given that `k` and `j` each refer to a non-negative int and that `play_list` has been defined to be a list with at least `j` elements, write an expression that evaluates to a new list containing all the elements from the one at index `k` through the one at index `j-1` of list `play_list`. Do not modify `play_list`."
   ]
  },
  {
   "cell_type": "code",
   "execution_count": null,
   "id": "ba29d231",
   "metadata": {},
   "outputs": [],
   "source": [
    "#new_playlist = play_list[k:j]"
   ]
  },
  {
   "cell_type": "markdown",
   "metadata": {},
   "source": [
    "### 51620\n",
    "\n",
    "Given that `plist` has been defined to be a list, write an expression that evaluates to `True` if 3 is an element of `plist`."
   ]
  },
  {
   "cell_type": "code",
   "execution_count": null,
   "id": "1bbd375d",
   "metadata": {},
   "outputs": [],
   "source": [
    "#3 in plist"
   ]
  },
  {
   "cell_type": "markdown",
   "metadata": {},
   "source": [
    "### 51211\n",
    "\n",
    "Given that the variable `a` is associated with a list, write an expression for the corresponding element of `a[i]`."
   ]
  },
  {
   "cell_type": "code",
   "execution_count": null,
   "id": "135f51d8",
   "metadata": {},
   "outputs": [],
   "source": [
    "#a[i]"
   ]
  },
  {
   "cell_type": "markdown",
   "metadata": {},
   "source": [
    "### 51602\n",
    "\n",
    "Given a list named `play_list`, write an expression whose value is the length of `play_list`."
   ]
  },
  {
   "cell_type": "code",
   "execution_count": null,
   "id": "8ec42adf",
   "metadata": {},
   "outputs": [],
   "source": [
    "#len(play_list)"
   ]
  },
  {
   "cell_type": "markdown",
   "metadata": {},
   "source": [
    "### 51210\n",
    "\n",
    "Given a variable `temps` that refers to a list, all of whose elements refer to values of type float, representing temperature data, compute the average temperature and assign it to a variable named `avg_temp`."
   ]
  },
  {
   "cell_type": "code",
   "execution_count": null,
   "id": "7005c678",
   "metadata": {},
   "outputs": [],
   "source": [
    "#total = sum(temps)\n",
    "#avg_temp = total/len(temps)"
   ]
  },
  {
   "cell_type": "markdown",
   "metadata": {},
   "source": [
    "### 51200\n",
    "\n",
    "Assume that `salary_steps` refers to a non-empty list, write a statement that assigns the value 30000 to the first element of this list."
   ]
  },
  {
   "cell_type": "code",
   "execution_count": null,
   "id": "566c4929",
   "metadata": {},
   "outputs": [],
   "source": [
    "#salary_steps[0] = 30000"
   ]
  },
  {
   "cell_type": "markdown",
   "metadata": {},
   "source": [
    "### 51618\n",
    "\n",
    "Given that `worst_offenders` has been defined as a list with at least 6 elements, write a statement that defines `lesser_offenders` to be a new list that contains all the elements from index 5 of `worst_offenders` and beyond. Do not modify `worst_offenders`."
   ]
  },
  {
   "cell_type": "code",
   "execution_count": null,
   "id": "882d4b5f",
   "metadata": {},
   "outputs": [],
   "source": [
    "#lesser_offenders = worst_offenders[5:]"
   ]
  },
  {
   "cell_type": "markdown",
   "metadata": {},
   "source": [
    "### 51212\n",
    "\n",
    "Given that `a` refers to a list, write the necessary code to reverse the elements of the list."
   ]
  },
  {
   "cell_type": "code",
   "execution_count": null,
   "id": "df950f48",
   "metadata": {},
   "outputs": [],
   "source": [
    "#a.reverse"
   ]
  },
  {
   "cell_type": "markdown",
   "metadata": {},
   "source": [
    "### 51603\n",
    "\n",
    "Given a variable named `plist` that refers to a list, write a statement that adds another element, 5 to the end of the list."
   ]
  },
  {
   "cell_type": "code",
   "execution_count": null,
   "id": "e3e40ba5",
   "metadata": {},
   "outputs": [],
   "source": [
    "#plist.append(5)"
   ]
  },
  {
   "cell_type": "markdown",
   "metadata": {},
   "source": [
    "### 51610\n",
    "\n",
    "Given that `play_list` has been defined to be a list, write a statement that sorts the list."
   ]
  },
  {
   "cell_type": "code",
   "execution_count": null,
   "id": "df0cab2b",
   "metadata": {},
   "outputs": [],
   "source": [
    "#play_list.sort()"
   ]
  },
  {
   "cell_type": "markdown",
   "metadata": {},
   "source": [
    "### 51275\n",
    "\n",
    "Given the lists `list1` and `list2` that are of the same length, create a new list consisting of the first element of `list1` followed by the first element of `list2`, followed by the second element of `list1`, followed by the second element of `list2`, and so on."
   ]
  },
  {
   "cell_type": "code",
   "execution_count": null,
   "id": "c59a3319",
   "metadata": {},
   "outputs": [],
   "source": [
    "#new_list = []\n",
    "#for i in range(len(list1)): \n",
    "    #new_list.append(list1[i])\n",
    "    #new_list.append(list2[i])"
   ]
  },
  {
   "cell_type": "markdown",
   "metadata": {},
   "source": [
    "### 51283\n",
    "\n",
    "Given the list `names`, find the largest element in the list and swap it with the last element. Assume `names` is not empty."
   ]
  },
  {
   "cell_type": "code",
   "execution_count": null,
   "id": "8b4a2d5a",
   "metadata": {},
   "outputs": [],
   "source": [
    "#index = names.index(max(names))\n",
    "#names[index], names[-1] = names[-1], names[index]"
   ]
  },
  {
   "cell_type": "markdown",
   "metadata": {},
   "source": [
    "### 51257\n",
    "\n",
    "Create a list of the odd numbers between 1 and `n` (include 1 as well as `n` if it's odd) in the list. Associate the list with the variable `odds`."
   ]
  },
  {
   "cell_type": "code",
   "execution_count": null,
   "id": "23023b4f",
   "metadata": {},
   "outputs": [],
   "source": [
    "#odd = list(range(1, n+1, 2))"
   ]
  }
 ],
 "metadata": {
  "kernelspec": {
   "display_name": "Python 3",
   "language": "python",
   "name": "python3"
  },
  "language_info": {
   "codemirror_mode": {
    "name": "ipython",
    "version": 3
   },
   "file_extension": ".py",
   "mimetype": "text/x-python",
   "name": "python",
   "nbconvert_exporter": "python",
   "pygments_lexer": "ipython3",
   "version": "3.12.1"
  }
 },
 "nbformat": 4,
 "nbformat_minor": 5
}
